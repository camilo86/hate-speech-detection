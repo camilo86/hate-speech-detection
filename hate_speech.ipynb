{
 "cells": [
  {
   "cell_type": "code",
   "execution_count": 1,
   "metadata": {},
   "outputs": [
    {
     "name": "stdout",
     "output_type": "stream",
     "text": [
      "Requirement already satisfied: vaderSentiment in /opt/anaconda3/lib/python3.8/site-packages (3.3.2)\r\n",
      "Requirement already satisfied: requests in /opt/anaconda3/lib/python3.8/site-packages (from vaderSentiment) (2.24.0)\r\n",
      "Requirement already satisfied: chardet<4,>=3.0.2 in /opt/anaconda3/lib/python3.8/site-packages (from requests->vaderSentiment) (3.0.4)\r\n",
      "Requirement already satisfied: idna<3,>=2.5 in /opt/anaconda3/lib/python3.8/site-packages (from requests->vaderSentiment) (2.10)\r\n",
      "Requirement already satisfied: urllib3!=1.25.0,!=1.25.1,<1.26,>=1.21.1 in /opt/anaconda3/lib/python3.8/site-packages (from requests->vaderSentiment) (1.25.11)\r\n",
      "Requirement already satisfied: certifi>=2017.4.17 in /opt/anaconda3/lib/python3.8/site-packages (from requests->vaderSentiment) (2020.6.20)\r\n"
     ]
    }
   ],
   "source": [
    "import sys\n",
    "import matplotlib.pyplot as plt\n",
    "!{sys.executable} -m pip install vaderSentiment\n",
    "%matplotlib inline"
   ]
  },
  {
   "cell_type": "code",
   "execution_count": 2,
   "metadata": {},
   "outputs": [],
   "source": [
    "from denylist.detect import is_hate_speech as denylist_is_hate_speech"
   ]
  },
  {
   "cell_type": "code",
   "execution_count": 3,
   "metadata": {},
   "outputs": [],
   "source": [
    "from nlp.detect import is_hate_speech as nlp_is_hate_speech"
   ]
  },
  {
   "cell_type": "code",
   "execution_count": 4,
   "metadata": {},
   "outputs": [],
   "source": [
    "from experiment.test_setup import get_test_data, summarize_result"
   ]
  },
  {
   "cell_type": "code",
   "execution_count": 5,
   "metadata": {},
   "outputs": [],
   "source": [
    "test_data = get_test_data()"
   ]
  },
  {
   "cell_type": "code",
   "execution_count": 7,
   "metadata": {},
   "outputs": [],
   "source": [
    "# index of each item corresponds to result of item in test_data: [{ expected: 0, result_nlp: 0, result_denylist: 0 }]\n",
    "# each integer value can be: -1 (no hate speech), 0, (hate speech), 1 (offensive language), 2 (other)\n",
    "results = []\n",
    "num_of_hate = 0\n",
    "num_of_offensive = 0\n",
    "num_of_other = 0\n",
    "\n",
    "for i in range(len(test_data.values)):\n",
    "    test_str = test_data.values[i][6]\n",
    "    test_expected = test_data.values[i][5]\n",
    "    \n",
    "    if test_expected == 0:\n",
    "        num_of_hate += 1\n",
    "    elif test_expected == 1:\n",
    "        num_of_offensive += 1\n",
    "    else:\n",
    "        num_of_other += 1\n",
    "    \n",
    "    \n",
    "    results.append({ 'expected': test_expected, 'result_nlp': 0 if nlp_is_hate_speech(test_str) else 2, 'result_denylist': 0 if denylist_is_hate_speech(test_str) else 2 })"
   ]
  },
  {
   "cell_type": "code",
   "execution_count": 8,
   "metadata": {},
   "outputs": [],
   "source": [
    "nlp_results = { 'num_of_hate': 0, 'num_of_other': 0, 'correct_num_of_hate': 0, 'correct_num_of_other': 0 }\n",
    "denylist_results = { 'num_of_hate': 0, 'num_of_other': 0, 'correct_num_of_hate': 0, 'correct_num_of_other': 0 }\n",
    "\n",
    "for result in results:\n",
    "    nlp_results = summarize_result(result, nlp_results, 'result_nlp')\n",
    "    denylist_results = summarize_result(result, denylist_results, 'result_denylist')\n",
    "        "
   ]
  },
  {
   "cell_type": "code",
   "execution_count": 9,
   "metadata": {},
   "outputs": [
    {
     "data": {
      "text/plain": [
       "{'num_of_hate': 14938,\n",
       " 'num_of_other': 0,\n",
       " 'correct_num_of_hate': 965,\n",
       " 'correct_num_of_other': 0}"
      ]
     },
     "execution_count": 9,
     "metadata": {},
     "output_type": "execute_result"
    }
   ],
   "source": [
    "nlp_results"
   ]
  },
  {
   "cell_type": "code",
   "execution_count": 10,
   "metadata": {},
   "outputs": [
    {
     "data": {
      "text/plain": [
       "{'num_of_hate': 15822,\n",
       " 'num_of_other': 0,\n",
       " 'correct_num_of_hate': 901,\n",
       " 'correct_num_of_other': 0}"
      ]
     },
     "execution_count": 10,
     "metadata": {},
     "output_type": "execute_result"
    }
   ],
   "source": [
    "denylist_results"
   ]
  },
  {
   "cell_type": "code",
   "execution_count": 11,
   "metadata": {},
   "outputs": [
    {
     "data": {
      "text/plain": [
       "0.6748251748251748"
      ]
     },
     "execution_count": 11,
     "metadata": {},
     "output_type": "execute_result"
    }
   ],
   "source": [
    "nlp_results['correct_num_of_hate'] / num_of_hate"
   ]
  },
  {
   "cell_type": "code",
   "execution_count": 12,
   "metadata": {},
   "outputs": [
    {
     "data": {
      "text/plain": [
       "0.6300699300699301"
      ]
     },
     "execution_count": 12,
     "metadata": {},
     "output_type": "execute_result"
    }
   ],
   "source": [
    "denylist_results['correct_num_of_hate'] / num_of_hate"
   ]
  }
 ],
 "metadata": {
  "kernelspec": {
   "display_name": "Python 3",
   "language": "python",
   "name": "python3"
  },
  "language_info": {
   "codemirror_mode": {
    "name": "ipython",
    "version": 3
   },
   "file_extension": ".py",
   "mimetype": "text/x-python",
   "name": "python",
   "nbconvert_exporter": "python",
   "pygments_lexer": "ipython3",
   "version": "3.8.5"
  }
 },
 "nbformat": 4,
 "nbformat_minor": 4
}
